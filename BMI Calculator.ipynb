{
 "cells": [
  {
   "cell_type": "code",
   "execution_count": 28,
   "id": "4cd534f1-8071-4b99-a141-20f606d932c7",
   "metadata": {},
   "outputs": [
    {
     "name": "stdin",
     "output_type": "stream",
     "text": [
      "Enter you Name:  sahil\n",
      "Enter your weight in pounds: 170\n",
      "Enter your height in inches: 78\n"
     ]
    },
    {
     "name": "stdout",
     "output_type": "stream",
     "text": [
      "19.643326758711375\n",
      "sahil,You are Normal\n"
     ]
    }
   ],
   "source": [
    "Name = input('Enter you Name: ')\n",
    "weight = int(input('Enter your weight in pounds:'))\n",
    "height = int(input('Enter your height in inches:'))\n",
    "BMI = (weight * 703) / (height * height)\n",
    "\n",
    "print(BMI)\n",
    "\n",
    "if BMI > 0:\n",
    "    if BMI < 18.5:\n",
    "        print(Name + ',You are Underweight')\n",
    "    elif BMI <= 24.9:\n",
    "        print(Name + ',You are Normal')\n",
    "    elif BMI <= 29.9:\n",
    "        print(Name + ',You are overweight')\n",
    "    elif BMI <= 34.9:\n",
    "        print(Name + '.You are obese')\n",
    "    elif BMI <= 39.9:\n",
    "        print(Name + ',You are severly obese')\n",
    "    else:\n",
    "        print(Name + ',You are Morbidly Obese')\n",
    "else:\n",
    "    print('Enter valid details')"
   ]
  },
  {
   "cell_type": "code",
   "execution_count": 29,
   "id": "c4cce439-09c6-470c-a0cb-4a02a0b59b3a",
   "metadata": {},
   "outputs": [
    {
     "name": "stdout",
     "output_type": "stream",
     "text": [
      "sahil,You are Normal\n"
     ]
    }
   ],
   "source": [
    "if BMI > 0:\n",
    "    if BMI < 18.5:\n",
    "        print(Name + ',You are Underweight')\n",
    "    elif BMI <= 24.9:\n",
    "        print(Name + ',You are Normal')\n",
    "    elif BMI <= 29.9:\n",
    "        print(Name + ',You are overweight')\n",
    "    elif BMI <= 34.9:\n",
    "        print(Name + '.You are obese')\n",
    "    elif BMI <= 39.9:\n",
    "        print(Name + ',You are severly obese')\n",
    "    else:\n",
    "        print(Name + ',You are Morbidly Obese')\n",
    "else:\n",
    "    print('Enter valid details')"
   ]
  },
  {
   "cell_type": "code",
   "execution_count": null,
   "id": "286888a8-fd34-4e39-a4b9-19380ff44943",
   "metadata": {},
   "outputs": [],
   "source": []
  }
 ],
 "metadata": {
  "kernelspec": {
   "display_name": "Python 3 (ipykernel)",
   "language": "python",
   "name": "python3"
  },
  "language_info": {
   "codemirror_mode": {
    "name": "ipython",
    "version": 3
   },
   "file_extension": ".py",
   "mimetype": "text/x-python",
   "name": "python",
   "nbconvert_exporter": "python",
   "pygments_lexer": "ipython3",
   "version": "3.11.7"
  }
 },
 "nbformat": 4,
 "nbformat_minor": 5
}
